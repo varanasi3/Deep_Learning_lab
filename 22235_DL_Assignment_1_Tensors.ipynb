{
 "cells": [
  {
   "cell_type": "code",
   "execution_count": 76,
   "id": "4de1cb8b",
   "metadata": {},
   "outputs": [],
   "source": [
    "import torch\n",
    "import numpy as np    # importing libraries"
   ]
  },
  {
   "cell_type": "markdown",
   "id": "f80b0b1e",
   "metadata": {},
   "source": [
    "### Initializing a Tensor "
   ]
  },
  {
   "cell_type": "code",
   "execution_count": 41,
   "id": "614424ad",
   "metadata": {},
   "outputs": [
    {
     "data": {
      "text/plain": [
       "tensor([[1, 2],\n",
       "        [3, 4]])"
      ]
     },
     "execution_count": 41,
     "metadata": {},
     "output_type": "execute_result"
    }
   ],
   "source": [
    "data = [[1, 2],[3, 4]]    #creating data\n",
    "x_data = torch.tensor(data) # loading into  tensors \n",
    "x_data"
   ]
  },
  {
   "cell_type": "code",
   "execution_count": 42,
   "id": "177b3ca4",
   "metadata": {},
   "outputs": [
    {
     "data": {
      "text/plain": [
       "tensor([[1, 2],\n",
       "        [3, 4]], dtype=torch.int32)"
      ]
     },
     "execution_count": 42,
     "metadata": {},
     "output_type": "execute_result"
    }
   ],
   "source": [
    "np_array = np.array(data)\n",
    "x_np = torch.from_numpy(np_array)  ## creating tensors from numpy arrays \n",
    "x_np"
   ]
  },
  {
   "cell_type": "code",
   "execution_count": 43,
   "id": "ca09daa6",
   "metadata": {},
   "outputs": [
    {
     "name": "stdout",
     "output_type": "stream",
     "text": [
      "Ones Tensor: \n",
      " tensor([[1, 1],\n",
      "        [1, 1]]) \n",
      "\n"
     ]
    }
   ],
   "source": [
    "x_ones = torch.ones_like(x_data) # retains the properties of x_data\n",
    "print(f\"Ones Tensor: \\n {x_ones} \\n\")  # getting data from another tensor\n",
    "\n"
   ]
  },
  {
   "cell_type": "code",
   "execution_count": 44,
   "id": "36eae627",
   "metadata": {},
   "outputs": [
    {
     "name": "stdout",
     "output_type": "stream",
     "text": [
      "Random Tensor: \n",
      " tensor([[0.5827, 0.1357],\n",
      "        [0.3036, 0.2714]]) \n",
      "\n"
     ]
    }
   ],
   "source": [
    "x_rand = torch.rand_like(x_data, dtype=torch.float) # overrides the datatype of x_data\n",
    "print(f\"Random Tensor: \\n {x_rand} \\n\")"
   ]
  },
  {
   "cell_type": "code",
   "execution_count": 45,
   "id": "e0250bb6",
   "metadata": {},
   "outputs": [],
   "source": [
    "shape = (2,4,)                    ## dimensions of the tensor \n",
    "rand_tensor = torch.rand(shape)   ##  Generating random tensors of that dimension\n",
    "ones_tensor = torch.ones(shape)   ## tensor of all ones\n",
    "zeros_tensor = torch.zeros(shape) ## tensor of all zeros "
   ]
  },
  {
   "cell_type": "code",
   "execution_count": 46,
   "id": "f8034472",
   "metadata": {},
   "outputs": [
    {
     "name": "stdout",
     "output_type": "stream",
     "text": [
      "Random Tensor: \n",
      " tensor([[0.5712, 0.1269, 0.2390, 0.7154],\n",
      "        [0.5558, 0.4126, 0.6498, 0.0200]]) \n",
      "\n",
      "Ones Tensor: \n",
      " tensor([[1., 1., 1., 1.],\n",
      "        [1., 1., 1., 1.]]) \n",
      "\n",
      "Zeros Tensor: \n",
      " tensor([[0., 0., 0., 0.],\n",
      "        [0., 0., 0., 0.]])\n"
     ]
    }
   ],
   "source": [
    "print(f\"Random Tensor: \\n {rand_tensor} \\n\")\n",
    "print(f\"Ones Tensor: \\n {ones_tensor} \\n\")\n",
    "print(f\"Zeros Tensor: \\n {zeros_tensor}\")"
   ]
  },
  {
   "cell_type": "markdown",
   "id": "b12e8d19",
   "metadata": {},
   "source": [
    "### Attributes of Tensor "
   ]
  },
  {
   "cell_type": "code",
   "execution_count": 78,
   "id": "d4404685",
   "metadata": {},
   "outputs": [
    {
     "name": "stdout",
     "output_type": "stream",
     "text": [
      "Shape of tensor: torch.Size([3, 4])\n",
      "Datatype of tensor: torch.float32\n",
      "Device tensor is stored on: cpu\n"
     ]
    }
   ],
   "source": [
    "tensor = torch.rand(3,4)\n",
    "\n",
    "print(f\"Shape of tensor: {tensor.shape}\")  #shape \n",
    "print(f\"Datatype of tensor: {tensor.dtype}\") # datatype\n",
    "print(f\"Device tensor is stored on: {tensor.device}\") # device in which they are stored"
   ]
  },
  {
   "cell_type": "markdown",
   "id": "cefb9462",
   "metadata": {},
   "source": [
    "### Operations on Tensors"
   ]
  },
  {
   "cell_type": "code",
   "execution_count": 48,
   "id": "4c7d6716",
   "metadata": {},
   "outputs": [
    {
     "data": {
      "text/plain": [
       "tensor([[1., 1., 1.],\n",
       "        [1., 1., 1.],\n",
       "        [1., 1., 1.]])"
      ]
     },
     "execution_count": 48,
     "metadata": {},
     "output_type": "execute_result"
    }
   ],
   "source": [
    "tensor = torch.ones(3,3)\n",
    "tensor"
   ]
  },
  {
   "cell_type": "code",
   "execution_count": 49,
   "id": "130cb39b",
   "metadata": {},
   "outputs": [
    {
     "data": {
      "text/plain": [
       "tensor([[1., 0., 1.],\n",
       "        [1., 0., 1.],\n",
       "        [1., 0., 1.]])"
      ]
     },
     "execution_count": 49,
     "metadata": {},
     "output_type": "execute_result"
    }
   ],
   "source": [
    "tensor[:,1] =0  #slicing on the tensor\n",
    "tensor"
   ]
  },
  {
   "cell_type": "code",
   "execution_count": 50,
   "id": "2d131557",
   "metadata": {},
   "outputs": [
    {
     "data": {
      "text/plain": [
       "tensor([[1., 0., 1., 1., 0., 1., 1., 0., 1.],\n",
       "        [1., 0., 1., 1., 0., 1., 1., 0., 1.],\n",
       "        [1., 0., 1., 1., 0., 1., 1., 0., 1.]])"
      ]
     },
     "execution_count": 50,
     "metadata": {},
     "output_type": "execute_result"
    }
   ],
   "source": [
    "t1 = torch.cat([tensor,tensor,tensor],dim=1) # concatenating using 'cat'\n",
    "t1"
   ]
  },
  {
   "cell_type": "markdown",
   "id": "bbaf3ac7",
   "metadata": {},
   "source": [
    "### Arithmetic Operations"
   ]
  },
  {
   "cell_type": "code",
   "execution_count": 51,
   "id": "05a0d4ab",
   "metadata": {},
   "outputs": [
    {
     "data": {
      "text/plain": [
       "tensor([[2., 2., 2.],\n",
       "        [2., 2., 2.],\n",
       "        [2., 2., 2.]])"
      ]
     },
     "execution_count": 51,
     "metadata": {},
     "output_type": "execute_result"
    }
   ],
   "source": [
    "y1 = tensor\n",
    "y2 = tensor.T ## getting the transpose of the tensor\n",
    "y3 = torch.matmul(y1 ,y2 ) # matrix multiplications on the tensor\n",
    "y3"
   ]
  },
  {
   "cell_type": "code",
   "execution_count": 52,
   "id": "5575b79c",
   "metadata": {},
   "outputs": [
    {
     "data": {
      "text/plain": [
       "tensor([[0.2416, 0.8576, 0.3581],\n",
       "        [0.1266, 0.0632, 0.2968],\n",
       "        [0.9830, 0.0511, 0.4153]])"
      ]
     },
     "execution_count": 52,
     "metadata": {},
     "output_type": "execute_result"
    }
   ],
   "source": [
    "y4 = torch.rand_like(y3) # gets a random array of same shape as y3\n",
    "y4"
   ]
  },
  {
   "cell_type": "code",
   "execution_count": 53,
   "id": "ade6db94",
   "metadata": {},
   "outputs": [
    {
     "data": {
      "text/plain": [
       "tensor([[1., 0., 1.],\n",
       "        [1., 0., 1.],\n",
       "        [1., 0., 1.]])"
      ]
     },
     "execution_count": 53,
     "metadata": {},
     "output_type": "execute_result"
    }
   ],
   "source": [
    "torch.mul(tensor, tensor, out=y3) # matrix multiplications of tensors\n"
   ]
  },
  {
   "cell_type": "markdown",
   "id": "83a22f2c",
   "metadata": {},
   "source": [
    "### Single Element tensors"
   ]
  },
  {
   "cell_type": "code",
   "execution_count": 54,
   "id": "8553717e",
   "metadata": {},
   "outputs": [
    {
     "name": "stdout",
     "output_type": "stream",
     "text": [
      "6.0 <class 'float'>\n"
     ]
    }
   ],
   "source": [
    "agg = tensor.sum()  # sum of the all elements in the tensor\n",
    "agg\n",
    "agg_item = agg.item() # convert the value into python numerical value\n",
    "agg_item\n",
    "print(agg_item,type(agg_item))"
   ]
  },
  {
   "cell_type": "markdown",
   "id": "fd5fb9bc",
   "metadata": {},
   "source": [
    "### In place operations"
   ]
  },
  {
   "cell_type": "code",
   "execution_count": 55,
   "id": "b64db6a3",
   "metadata": {},
   "outputs": [
    {
     "name": "stdout",
     "output_type": "stream",
     "text": [
      "tensor([[1., 0., 1.],\n",
      "        [1., 0., 1.],\n",
      "        [1., 0., 1.]])\n",
      "\n"
     ]
    },
    {
     "data": {
      "text/plain": [
       "tensor([[101., 100., 101.],\n",
       "        [101., 100., 101.],\n",
       "        [101., 100., 101.]])"
      ]
     },
     "execution_count": 55,
     "metadata": {},
     "output_type": "execute_result"
    }
   ],
   "source": [
    "print(f'{tensor}\\n')\n",
    "tensor.add_(100)\n",
    "tensor"
   ]
  },
  {
   "cell_type": "markdown",
   "id": "47a736ca",
   "metadata": {},
   "source": [
    "### Bridge with NumPy"
   ]
  },
  {
   "cell_type": "code",
   "execution_count": 69,
   "id": "fddef888",
   "metadata": {},
   "outputs": [
    {
     "name": "stdout",
     "output_type": "stream",
     "text": [
      "t: tensor([1., 1., 1., 1., 1.])\n",
      "n: [1. 1. 1. 1. 1.]\n"
     ]
    }
   ],
   "source": [
    "t = torch.ones(5)\n",
    "print(f\"t: {t}\")\n",
    "n = t.numpy()         ## changes in tensor affects numpy\n",
    "print(f\"n: {n}\")"
   ]
  },
  {
   "cell_type": "code",
   "execution_count": 72,
   "id": "583708b3",
   "metadata": {},
   "outputs": [
    {
     "data": {
      "text/plain": [
       "tensor([3., 3., 3., 3., 3.])"
      ]
     },
     "execution_count": 72,
     "metadata": {},
     "output_type": "execute_result"
    }
   ],
   "source": [
    "t.add_(2)\n",
    "t"
   ]
  },
  {
   "cell_type": "code",
   "execution_count": 73,
   "id": "9cc0b874",
   "metadata": {},
   "outputs": [],
   "source": [
    "n = np.ones(5)\n",
    "t= torch.from_numpy(n)"
   ]
  },
  {
   "cell_type": "code",
   "execution_count": 77,
   "id": "47e05c4a",
   "metadata": {},
   "outputs": [
    {
     "data": {
      "text/plain": [
       "array([3., 3., 3., 3., 3.])"
      ]
     },
     "execution_count": 77,
     "metadata": {},
     "output_type": "execute_result"
    }
   ],
   "source": [
    "np.add(n,1,out =n)     ## changes in numpy affects tensor"
   ]
  }
 ],
 "metadata": {
  "kernelspec": {
   "display_name": "Python 3 (ipykernel)",
   "language": "python",
   "name": "python3"
  },
  "language_info": {
   "codemirror_mode": {
    "name": "ipython",
    "version": 3
   },
   "file_extension": ".py",
   "mimetype": "text/x-python",
   "name": "python",
   "nbconvert_exporter": "python",
   "pygments_lexer": "ipython3",
   "version": "3.10.9"
  }
 },
 "nbformat": 4,
 "nbformat_minor": 5
}
